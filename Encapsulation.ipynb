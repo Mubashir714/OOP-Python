{
 "cells": [
  {
   "cell_type": "code",
   "execution_count": 17,
   "metadata": {},
   "outputs": [
    {
     "name": "stdout",
     "output_type": "stream",
     "text": [
      "The Revenue has been deleted The Revenue has been Re-Created 4000\n"
     ]
    }
   ],
   "source": [
    "class Finance():\n",
    "    def __init__(self, revenue,total_employees,per_annum):\n",
    "        self._per_annum=per_annum\n",
    "        self.__revenue=revenue\n",
    "        self.total_employees=total_employees\n",
    "\n",
    "    def get_revenue(self):\n",
    "        return (self.__revenue)\n",
    "    def set_revenue(self, x):\n",
    "\n",
    "        if x <=0:\n",
    "            raise ValueError(\"The Revenue is not updated\")\n",
    "        \n",
    "        self.__revenue+=x \n",
    "        return (f\"The Revenus has been updated to : {self.__revenue} generating by {self.total_employees} employees\")\n",
    "\n",
    "    def recreate_revenue(self, new_revenue):\n",
    "        self.__revenue = new_revenue\n",
    "        return f\"Revenue attribute has been recreated with value: {self.__revenue}\"\n",
    "\n",
    "    def del_revenue(self):\n",
    "        del self.__revenue\n",
    "        return f\"The Revenue has been deleted\"\n",
    "\n",
    "class Marketing(Finance):\n",
    "    def __init__(self, revenue, total_employees, per_annum):\n",
    "        super().__init__(revenue, total_employees, per_annum)\n",
    "\n",
    "    def get_value(self):\n",
    "        return self._per_annum\n",
    "    \n",
    "    def set_value(self,y):\n",
    "        self._per_annum=y\n",
    "        return (f\"The per Annum for this year is: {self._per_annum}\")\n",
    "    \n",
    "    def recreate_revenue(self, new_revenue):\n",
    "        super().recreate_revenue(new_revenue)\n",
    "        return f\"The Revenue has been Re-Created\"\n",
    "            \n",
    "f1=Marketing(50000,70,1000000)\n",
    "print(f1.del_revenue()\n",
    ",f1.recreate_revenue(4000)\n",
    ",f1.get_revenue()) \n"
   ]
  }
 ],
 "metadata": {
  "kernelspec": {
   "display_name": "Python 3",
   "language": "python",
   "name": "python3"
  },
  "language_info": {
   "codemirror_mode": {
    "name": "ipython",
    "version": 3
   },
   "file_extension": ".py",
   "mimetype": "text/x-python",
   "name": "python",
   "nbconvert_exporter": "python",
   "pygments_lexer": "ipython3",
   "version": "3.12.1"
  }
 },
 "nbformat": 4,
 "nbformat_minor": 2
}
