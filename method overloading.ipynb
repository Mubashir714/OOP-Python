{
 "cells": [
  {
   "cell_type": "code",
   "execution_count": 8,
   "metadata": {},
   "outputs": [
    {
     "name": "stdout",
     "output_type": "stream",
     "text": [
      "2.0588235294117645\n"
     ]
    }
   ],
   "source": [
    "from abc import ABC, abstractmethod\n",
    "class student(ABC):\n",
    "    def __init__(self,name,salary):\n",
    "        self.name=name\n",
    "        self.salary=salary\n",
    "    def get_value(self):\n",
    "        return self.name\n",
    "    \n",
    "    # def __add__(self,other):\n",
    "        \n",
    "    #     return self.salary + other.salary\n",
    "    \n",
    "    def __truediv__(self,other):\n",
    "\n",
    "        return self.salary/other.salary\n",
    "\n",
    "class teacher(student):\n",
    "    def __init__(self, name, salary,profession):\n",
    "        self.profession=profession\n",
    "        super().__init__(name, salary)\n",
    "\n",
    "    def __concat__(self,other):\n",
    "        return self.name+ other.name\n",
    "    \n",
    "class child(teacher):\n",
    "    def __init__(self, name, salary, profession):\n",
    "        super().__init__(name, salary,profession)\n",
    "\n",
    "    def __add__(self, other):\n",
    "        return self.salary+other.salary\n",
    "\n",
    "obj=teacher(\"Ali\",23,\"Programmer\")\n",
    "obj1=student(\"Ahmad\" ,70)\n",
    "obj2=child(\"Asghar\",34,\"hacker\")\n",
    "# print(obj+obj1)\n",
    "print(obj1/obj2)"
   ]
  },
  {
   "cell_type": "code",
   "execution_count": null,
   "metadata": {},
   "outputs": [],
   "source": []
  }
 ],
 "metadata": {
  "kernelspec": {
   "display_name": "Python 3",
   "language": "python",
   "name": "python3"
  },
  "language_info": {
   "codemirror_mode": {
    "name": "ipython",
    "version": 3
   },
   "file_extension": ".py",
   "mimetype": "text/x-python",
   "name": "python",
   "nbconvert_exporter": "python",
   "pygments_lexer": "ipython3",
   "version": "3.12.1"
  }
 },
 "nbformat": 4,
 "nbformat_minor": 2
}
