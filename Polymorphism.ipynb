{
 "cells": [
  {
   "cell_type": "code",
   "execution_count": 37,
   "metadata": {},
   "outputs": [
    {
     "name": "stdout",
     "output_type": "stream",
     "text": [
      "The name of this car is: Ford\n",
      "None\n",
      "The name of this bike is: Honda\n",
      "None\n"
     ]
    }
   ],
   "source": [
    "class Car:\n",
    "    def __init__(self, name, release_year):\n",
    "        self.Name = name\n",
    "        self.release_year = release_year\n",
    "\n",
    "    def name(self):\n",
    "        print(\"The name of this car is:\" , self.Name)\n",
    "\n",
    "class Bike(Car):\n",
    "    def __init__(self, name, release_year, feature):\n",
    "        self.feature = feature\n",
    "        super().__init__(name, release_year)\n",
    "\n",
    "    def name(self):\n",
    "        print(\"The name of this bike is:\" ,self.Name)\n",
    "\n",
    "\n",
    "list = [Car(\"Ford\", 2000), Bike(\"Honda\", 2023, \"Gear\")]\n",
    "for i in list:\n",
    "    print(i.name())  \n",
    "\n"
   ]
  }
 ],
 "metadata": {
  "kernelspec": {
   "display_name": "Python 3",
   "language": "python",
   "name": "python3"
  },
  "language_info": {
   "codemirror_mode": {
    "name": "ipython",
    "version": 3
   },
   "file_extension": ".py",
   "mimetype": "text/x-python",
   "name": "python",
   "nbconvert_exporter": "python",
   "pygments_lexer": "ipython3",
   "version": "3.12.1"
  }
 },
 "nbformat": 4,
 "nbformat_minor": 2
}
