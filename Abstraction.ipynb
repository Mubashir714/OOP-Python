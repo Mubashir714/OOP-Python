{
 "cells": [
  {
   "cell_type": "code",
   "execution_count": 17,
   "metadata": {},
   "outputs": [
    {
     "name": "stdout",
     "output_type": "stream",
     "text": [
      "hello world\n",
      "None\n"
     ]
    }
   ],
   "source": [
    "from abc import ABC, abstractmethod\n",
    "\n",
    "class App(ABC):\n",
    "    def __init__(self,name):\n",
    "        self.__name=name\n",
    "        super().__init__()\n",
    "\n",
    "    @abstractmethod\n",
    "    def security(self):\n",
    "        pass\n",
    "    def maintaince(self):\n",
    "        pass\n",
    "\n",
    "class web(App):\n",
    "    def __init__(self,name):\n",
    "        self.name=name\n",
    "        super().__init__(name)\n",
    "\n",
    "    def get_value(self):\n",
    "            return self.__name\n",
    "    \n",
    "    def security(self):\n",
    "\n",
    "        return print(f\"hello world\")\n",
    "\n",
    "    \n",
    "obj=web(\"Ali\")\n",
    "print(obj.security())\n"
   ]
  }
 ],
 "metadata": {
  "kernelspec": {
   "display_name": "Python 3",
   "language": "python",
   "name": "python3"
  },
  "language_info": {
   "codemirror_mode": {
    "name": "ipython",
    "version": 3
   },
   "file_extension": ".py",
   "mimetype": "text/x-python",
   "name": "python",
   "nbconvert_exporter": "python",
   "pygments_lexer": "ipython3",
   "version": "3.12.1"
  }
 },
 "nbformat": 4,
 "nbformat_minor": 2
}
