{
 "cells": [
  {
   "cell_type": "code",
   "execution_count": 2,
   "metadata": {},
   "outputs": [
    {
     "name": "stdout",
     "output_type": "stream",
     "text": [
      "20\n"
     ]
    }
   ],
   "source": [
    "def validate_value(func):\n",
    "    def positive_value(self,value):\n",
    "        if value<0:\n",
    "            raise Exception(\"The value cannot be changed\")\n",
    "        self.__age=value\n",
    "    return positive_value\n",
    "\n",
    "class student:\n",
    "    def __init__(self,age,roll_no):\n",
    "        self.__age=age\n",
    "        self.roll_no=roll_no\n",
    "\n",
    "    @property\n",
    "    def value(self):\n",
    "        return self.__age\n",
    "    \n",
    "    @value.setter\n",
    "    @validate_value\n",
    "    def value(self,x):\n",
    "        self.__age=x\n",
    "\n",
    "    \n",
    "obj=student(20,123)\n",
    "obj.value=30\n",
    "update=obj.value\n",
    "print(update)"
   ]
  }
 ],
 "metadata": {
  "kernelspec": {
   "display_name": "Python 3",
   "language": "python",
   "name": "python3"
  },
  "language_info": {
   "codemirror_mode": {
    "name": "ipython",
    "version": 3
   },
   "file_extension": ".py",
   "mimetype": "text/x-python",
   "name": "python",
   "nbconvert_exporter": "python",
   "pygments_lexer": "ipython3",
   "version": "3.12.1"
  }
 },
 "nbformat": 4,
 "nbformat_minor": 2
}
